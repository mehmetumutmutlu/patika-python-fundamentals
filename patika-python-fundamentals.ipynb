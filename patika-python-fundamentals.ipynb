{
 "cells": [
  {
   "cell_type": "markdown",
   "id": "a9edfff7",
   "metadata": {},
   "source": [
    "# Python Fundamentals\n",
    "\n",
    "**Q1. Write a function to flatten the given list: `[[1,'a',['cat'],2],[[[3]],'dog'],4,5]`**"
   ]
  },
  {
   "cell_type": "code",
   "execution_count": 1,
   "id": "86b3aca4",
   "metadata": {},
   "outputs": [],
   "source": [
    "l = [[1,'a',['cat'],2],[[[3]],'dog'],4,5]"
   ]
  },
  {
   "cell_type": "code",
   "execution_count": 2,
   "id": "897d82f0",
   "metadata": {},
   "outputs": [],
   "source": [
    "def flatten(l):\n",
    "    if isinstance(l, list):\n",
    "        return [e for i in l for e in flatten(i)]\n",
    "    else:\n",
    "        return [l]"
   ]
  },
  {
   "cell_type": "code",
   "execution_count": 3,
   "id": "886a7ce4",
   "metadata": {},
   "outputs": [
    {
     "data": {
      "text/plain": [
       "[1, 'a', 'cat', 2, 3, 'dog', 4, 5]"
      ]
     },
     "execution_count": 3,
     "metadata": {},
     "output_type": "execute_result"
    }
   ],
   "source": [
    "flatten(l)"
   ]
  },
  {
   "cell_type": "markdown",
   "id": "bd8910de",
   "metadata": {},
   "source": [
    "**Q2. Reverse the given list: `[[1, 2], [3, 4], [5, 6, 7]]`**"
   ]
  },
  {
   "cell_type": "code",
   "execution_count": 4,
   "id": "668e609f",
   "metadata": {},
   "outputs": [],
   "source": [
    "l2 = [[1, 2], [3, 4], [5, 6, 7]]"
   ]
  },
  {
   "cell_type": "code",
   "execution_count": 5,
   "id": "e5fdf03a",
   "metadata": {},
   "outputs": [],
   "source": [
    "def reverse(l):\n",
    "    arr = []\n",
    "    for i in l:\n",
    "        if isinstance(i, list):\n",
    "            arr.append(reverse(i))\n",
    "        else:\n",
    "            arr.append(i)\n",
    "    arr.reverse()\n",
    "    return arr"
   ]
  },
  {
   "cell_type": "code",
   "execution_count": 6,
   "id": "d8efe8e2",
   "metadata": {},
   "outputs": [
    {
     "data": {
      "text/plain": [
       "[[7, 6, 5], [4, 3], [2, 1]]"
      ]
     },
     "execution_count": 6,
     "metadata": {},
     "output_type": "execute_result"
    }
   ],
   "source": [
    "reverse(l2)"
   ]
  }
 ],
 "metadata": {
  "kernelspec": {
   "display_name": "Python 3 (ipykernel)",
   "language": "python",
   "name": "python3"
  },
  "language_info": {
   "codemirror_mode": {
    "name": "ipython",
    "version": 3
   },
   "file_extension": ".py",
   "mimetype": "text/x-python",
   "name": "python",
   "nbconvert_exporter": "python",
   "pygments_lexer": "ipython3",
   "version": "3.11.2"
  }
 },
 "nbformat": 4,
 "nbformat_minor": 5
}
